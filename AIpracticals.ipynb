{
 "cells": [
  {
   "cell_type": "code",
   "execution_count": 1,
   "id": "5f16da17-41cf-47c5-b955-4e136f5a7d96",
   "metadata": {},
   "outputs": [
    {
     "name": "stdout",
     "output_type": "stream",
     "text": [
      "Original List: [5, 10, 15, 20]\n",
      "After Appending: [5, 10, 15, 20, 25, 30]\n",
      "After Removing 15: [5, 10, 20, 25, 30]\n",
      "After Removing element at index 1: [5, 20, 25, 30]\n",
      "After Appending a string and a sublist: [5, 20, 25, 30, 'Hello', [35, 40]]\n"
     ]
    }
   ],
   "source": [
    "# Step 1: Create a List \n",
    "my_list = [5, 10, 15, 20] \n",
    "print(\"Original List:\", my_list) \n",
    "# Step 2: Append elements to the list \n",
    "my_list.append(25) # Appending an integer \n",
    "my_list.append(30) # Appending another integer \n",
    "print(\"After Appending:\", my_list) \n",
    "# Step 3: Remove an element by value \n",
    "my_list.remove(15) # Remove 15 from the list \n",
    "print(\"After Removing 15:\", my_list) \n",
    "# Step 4: Remove an element by index \n",
    "del my_list[1] # Remove the element at index 1 \n",
    "print(\"After Removing element at index 1:\", \n",
    "my_list) \n",
    "# Step 5: Append a string and a sublist \n",
    "my_list.append(\"Hello\") # Appending a string \n",
    "my_list.append([35, 40]) # Appending another list \n",
    "print(\"After Appending a string and a sublist:\", \n",
    "my_list)\n"
   ]
  },
  {
   "cell_type": "code",
   "execution_count": 6,
   "id": "67fe5431-9012-4f61-9b7a-46c0809dd814",
   "metadata": {},
   "outputs": [
    {
     "name": "stdout",
     "output_type": "stream",
     "text": [
      "Original Dictionary: {'name': 'Shekhar', 'age': 22, 'city': 'Vangani'}\n",
      "After Adding 'nationality': {'name': 'Shekhar', 'age': 22, 'city': 'Vangani', 'nationality': 'Indian'}\n",
      "After Updating 'age': {'name': 'Shekhar', 'age': 23, 'city': 'Vangani', 'nationality': 'Indian'}\n",
      "After Removing 'city': {'name': 'Shekhar', 'age': 23, 'nationality': 'Indian'}\n",
      "Retrieved 'name': Shekhar\n",
      "Iterating through dictionary:\n",
      "name: Shekhar\n",
      "age: 23\n",
      "nationality: Indian\n",
      "The key 'name' exists in the dictionary.\n"
     ]
    }
   ],
   "source": [
    "# Demonstrating Dictionary Operations \n",
    "# Step 1: Create a dictionary with updated values \n",
    "my_dict = {\"name\": \"Shekhar\", \"age\": 22, \"city\": \"Vangani\"} \n",
    "print(\"Original Dictionary:\", my_dict) \n",
    "# Step 2: Add a new key-value pair for nationality\n",
    "my_dict[\"nationality\"] = \"Indian\" \n",
    "print(\"After Adding 'nationality':\", my_dict) \n",
    "# Step 3: Update an existing key-value pair\n",
    "my_dict[\"age\"] = 23 # Updated age to 23\n",
    "print(\"After Updating 'age':\", my_dict) \n",
    "# Step 4: Remove a key-value pair\n",
    "del my_dict[\"city\"] \n",
    "print(\"After Removing 'city':\", my_dict) \n",
    "# Step 5: Retrieve a value by key \n",
    "name = my_dict[\"name\"] \n",
    "print(\"Retrieved 'name':\", name)\n",
    "# Step 6: Iterating through the dictionary\n",
    "print(\"Iterating through dictionary:\") \n",
    "for key, value in my_dict.items(): \n",
    "    print(f\"{key}: {value}\") \n",
    "# Step 7: Check if a key exists \n",
    "if \"name\" in my_dict: \n",
    "    print(\"The key 'name' exists in the dictionary.\")\n",
    "else: \n",
    "    print(\"The key 'name' does not exist.\")"
   ]
  },
  {
   "cell_type": "code",
   "execution_count": 9,
   "id": "87f9765c-5aeb-42ab-9fa3-c7489dd5e5c5",
   "metadata": {},
   "outputs": [
    {
     "name": "stdout",
     "output_type": "stream",
     "text": [
      "Source Array: [1, 2, 3, 4, 5]\n",
      "Destination Array: [1, 2, 3, 4, 5]\n"
     ]
    }
   ],
   "source": [
    "# Step 1: Create a source array\n",
    "source_array = [1, 2, 3, 4, 5] \n",
    "# Step 2: Create an empty destination array \n",
    "destination_array = [] \n",
    "# Step 3: Copy elements from source_array to destination_array \n",
    "for element in source_array: \n",
    "    destination_array.append(element) \n",
    "# Step 4: Display both arrays \n",
    "print(\"Source Array:\", source_array) \n",
    "print(\"Destination Array:\", destination_array)\n"
   ]
  },
  {
   "cell_type": "code",
   "execution_count": 10,
   "id": "8c32de45-8e11-4112-80d2-7284da4667eb",
   "metadata": {},
   "outputs": [
    {
     "name": "stdout",
     "output_type": "stream",
     "text": [
      "Original String 1: Hello\n",
      "Original String 2: World\n",
      "Concatenated String: Hello World\n",
      "Extracted Sub-string: World\n"
     ]
    }
   ],
   "source": [
    "# Step 1: Create a String\n",
    "string1 = \"Hello\"\n",
    "string2 = \"World\"\n",
    "\n",
    "# Step 2: Concatenate the Strings\n",
    "concatenated_string = string1 + \" \" + string2\n",
    "\n",
    "# Step 3: Accessing Sub-string (Slicing)\n",
    "substring = concatenated_string[6:11]  # Extracting 'World' from index 6 to 10\n",
    "\n",
    "# Output the results\n",
    "print(\"Original String 1:\", string1)\n",
    "print(\"Original String 2:\", string2)\n",
    "print(\"Concatenated String:\", concatenated_string)\n",
    "print(\"Extracted Sub-string:\", substring)\n",
    "\n"
   ]
  },
  {
   "cell_type": "code",
   "execution_count": 11,
   "id": "1e099b63-25e9-4ea6-9a3e-a82a17634363",
   "metadata": {},
   "outputs": [
    {
     "name": "stdin",
     "output_type": "stream",
     "text": [
      "Enter the main string:  shekhar\n",
      "Enter the substring to count:  she\n"
     ]
    },
    {
     "name": "stdout",
     "output_type": "stream",
     "text": [
      "The substring 'she' occurs 1 times in the main string.\n"
     ]
    }
   ],
   "source": [
    "# Function to count occurrences of a substring in a string\n",
    "def count_occurrences(main_string, sub_string):\n",
    "    # Using the count method to count the occurrences\n",
    "    return main_string.count(sub_string)\n",
    "\n",
    "# Main program\n",
    "if __name__ == \"__main__\":\n",
    "    # Input from user\n",
    "    main_string = input(\"Enter the main string: \")\n",
    "    sub_string = input(\"Enter the substring to count: \")\n",
    "    \n",
    "    # Calling the function\n",
    "    result = count_occurrences(main_string, sub_string)\n",
    "    \n",
    "    # Output the result\n",
    "    print(f\"The substring '{sub_string}' occurs {result} times in the main string.\")\n"
   ]
  },
  {
   "cell_type": "code",
   "execution_count": 16,
   "id": "ffa26e94-92c5-4a22-bff7-e4c77afa61f8",
   "metadata": {},
   "outputs": [
    {
     "data": {
      "image/png": "[encoded data removed]",
      "text/plain": [
       "<Figure size 640x480 with 1 Axes>"
      ]
     },
     "metadata": {},
     "output_type": "display_data"
    },
    {
     "name": "stdout",
     "output_type": "stream",
     "text": [
      "Coefficient (m): [0.425]\n",
      "Intercept (c): 0.7849999999999999\n"
     ]
    }
   ],
   "source": [
    "# Importing required libraries\n",
    "import numpy as np\n",
    "import matplotlib.pyplot as plt\n",
    "from sklearn.linear_model import LinearRegression\n",
    "\n",
    "# Step 1: Create a dataset (independent variable X and dependent variable Y)\n",
    "X = np.array([1, 2, 3, 4, 5]).reshape(-1, 1)  # Independent variable (features)\n",
    "Y = np.array([1, 2, 1.3, 3.75, 2.25])        # Dependent variable (target)\n",
    "\n",
    "# Step 2: Create a Linear Regression model\n",
    "model = LinearRegression()\n",
    "\n",
    "# Step 3: Train the model using the dataset\n",
    "model.fit(X, Y)\n",
    "\n",
    "# Step 4: Predict the values using the model\n",
    "Y_pred = model.predict(X)\n",
    "\n",
    "# Step 5: Visualize the data and the regression line\n",
    "plt.scatter(X, Y, color='blue', label='Actual Data')  # Scatter plot of actual data\n",
    "plt.plot(X, Y_pred, color='red', label='Regression Line')  # Regression line\n",
    "plt.title('Linear Regression Example')\n",
    "plt.xlabel('X')\n",
    "plt.ylabel('Y')\n",
    "plt.legend()\n",
    "plt.show()\n",
    "\n",
    "# Step 6: Print out the coefficients and intercept\n",
    "print(f\"Coefficient (m): {model.coef_}\")\n",
    "print(f\"Intercept (c): {model.intercept_}\")\n"
   ]
  },
  {
   "cell_type": "code",
   "execution_count": 17,
   "id": "f3e3fba8-6733-4db8-bf1b-e81f481c9160",
   "metadata": {},
   "outputs": [
    {
     "name": "stdout",
     "output_type": "stream",
     "text": [
      "Accuracy: 0.9777777777777777\n",
      "Confusion Matrix:\n",
      " [[19  0  0]\n",
      " [ 0 12  1]\n",
      " [ 0  0 13]]\n",
      "Classification Report:\n",
      "               precision    recall  f1-score   support\n",
      "\n",
      "           0       1.00      1.00      1.00        19\n",
      "           1       1.00      0.92      0.96        13\n",
      "           2       0.93      1.00      0.96        13\n",
      "\n",
      "    accuracy                           0.98        45\n",
      "   macro avg       0.98      0.97      0.97        45\n",
      "weighted avg       0.98      0.98      0.98        45\n",
      "\n"
     ]
    }
   ],
   "source": [
    "# Step 1: Import Libraries\n",
    "from sklearn.datasets import load_iris\n",
    "from sklearn.model_selection import train_test_split\n",
    "from sklearn.naive_bayes import GaussianNB\n",
    "from sklearn.metrics import accuracy_score, classification_report, confusion_matrix\n",
    "\n",
    "# Step 2: Load Dataset\n",
    "iris = load_iris()  # Load the Iris dataset\n",
    "X = iris.data       # Features\n",
    "y = iris.target     # Target labels\n",
    "\n",
    "# Step 3: Split Dataset\n",
    "X_train, X_test, y_train, y_test = train_test_split(\n",
    "    X, y, test_size=0.3, random_state=42\n",
    ")\n",
    "\n",
    "# Step 4: Choose a Naive Bayes Model\n",
    "model = GaussianNB()\n",
    "\n",
    "# Step 5: Train the Model\n",
    "model.fit(X_train, y_train)\n",
    "\n",
    "# Step 6: Make Predictions\n",
    "y_pred = model.predict(X_test)\n",
    "\n",
    "# Step 7: Evaluate the Model\n",
    "accuracy = accuracy_score(y_test, y_pred)  # Calculate accuracy\n",
    "conf_matrix = confusion_matrix(y_test, y_pred)  # Generate confusion matrix\n",
    "report = classification_report(y_test, y_pred)  # Generate classification report\n",
    "\n",
    "# Output results\n",
    "print(\"Accuracy:\", accuracy)\n",
    "print(\"Confusion Matrix:\\n\", conf_matrix)\n",
    "print(\"Classification Report:\\n\", report)\n"
   ]
  },
  {
   "cell_type": "code",
   "execution_count": 18,
   "id": "c2071c3b-4da3-4d75-ad8e-484c9dc226a6",
   "metadata": {},
   "outputs": [
    {
     "name": "stdout",
     "output_type": "stream",
     "text": [
      "Accuracy without Bias: 1.0\n",
      "Accuracy with Bias: 1.0\n"
     ]
    }
   ],
   "source": [
    "import numpy as np\n",
    "from sklearn.datasets import load_iris\n",
    "from sklearn.model_selection import train_test_split\n",
    "from sklearn.metrics import accuracy_score\n",
    "\n",
    "# Step 1: Load and Preprocess Data\n",
    "iris = load_iris()\n",
    "X = iris.data[:100]  # Use only two classes (binary classification)\n",
    "y = iris.target[:100]  # Binary labels (0 and 1)\n",
    "y = np.where(y == 0, -1, 1)  # Convert labels to -1 and 1\n",
    "X_train, X_test, y_train, y_test = train_test_split(X, y, test_size=0.3, random_state=42)\n",
    "\n",
    "# Step 2: Perceptron Implementation\n",
    "class Perceptron:\n",
    "    def __init__(self, learning_rate=0.01, epochs=100, use_bias=True):\n",
    "        self.learning_rate = learning_rate\n",
    "        self.epochs = epochs\n",
    "        self.use_bias = use_bias\n",
    "\n",
    "    def fit(self, X, y):\n",
    "        n_samples, n_features = X.shape\n",
    "        self.weights = np.zeros(n_features)\n",
    "        self.bias = 0 if self.use_bias else None\n",
    "\n",
    "        for _ in range(self.epochs):\n",
    "            for idx, x_i in enumerate(X):\n",
    "                linear_output = np.dot(x_i, self.weights) + (self.bias if self.use_bias else 0)\n",
    "                prediction = np.sign(linear_output)\n",
    "                if prediction != y[idx]:  # Update rule\n",
    "                    self.weights += self.learning_rate * y[idx] * x_i\n",
    "                    if self.use_bias:\n",
    "                        self.bias += self.learning_rate * y[idx]\n",
    "\n",
    "    def predict(self, X):\n",
    "        linear_output = np.dot(X, self.weights) + (self.bias if self.use_bias else 0)\n",
    "        return np.sign(linear_output)\n",
    "\n",
    "# Step 3: Train and Evaluate\n",
    "# Without Bias\n",
    "model_no_bias = Perceptron(learning_rate=0.01, epochs=100, use_bias=False)\n",
    "model_no_bias.fit(X_train, y_train)\n",
    "y_pred_no_bias = model_no_bias.predict(X_test)\n",
    "\n",
    "# With Bias\n",
    "model_with_bias = Perceptron(learning_rate=0.01, epochs=100, use_bias=True)\n",
    "model_with_bias.fit(X_train, y_train)\n",
    "y_pred_with_bias = model_with_bias.predict(X_test)\n",
    "\n",
    "# Step 4: Compare Results\n",
    "accuracy_no_bias = accuracy_score(y_test, y_pred_no_bias)\n",
    "accuracy_with_bias = accuracy_score(y_test, y_pred_with_bias)\n",
    "\n",
    "print(\"Accuracy without Bias:\", accuracy_no_bias)\n",
    "print(\"Accuracy with Bias:\", accuracy_with_bias)\n"
   ]
  },
  {
   "cell_type": "code",
   "execution_count": 19,
   "id": "53eac0d8-653c-45a2-b84f-fbd96a20307f",
   "metadata": {},
   "outputs": [
    {
     "name": "stdout",
     "output_type": "stream",
     "text": [
      "Prediction for 'cat': [[0.98302285 0.0166397 ]]\n",
      "Prediction for 'bird': [[0.01820153 0.98255636]]\n"
     ]
    }
   ],
   "source": [
    "import numpy as np\n",
    "\n",
    "# Sigmoid activation function and its derivative\n",
    "def sigmoid(x):\n",
    "    return 1 / (1 + np.exp(-x))\n",
    "\n",
    "def sigmoid_derivative(x):\n",
    "    return x * (1 - x)\n",
    "\n",
    "# Simple Neural Network Class with Backpropagation\n",
    "class SimpleNN:\n",
    "    def __init__(self, input_size, hidden_size, output_size):\n",
    "        self.weights_input_hidden = np.random.randn(input_size, hidden_size)\n",
    "        self.bias_hidden = np.random.randn(1, hidden_size)\n",
    "        self.weights_hidden_output = np.random.randn(hidden_size, output_size)\n",
    "        self.bias_output = np.random.randn(1, output_size)\n",
    "\n",
    "    def forward(self, X):\n",
    "        self.hidden_input = np.dot(X, self.weights_input_hidden) + self.bias_hidden\n",
    "        self.hidden_output = sigmoid(self.hidden_input)\n",
    "        self.final_input = np.dot(self.hidden_output, self.weights_hidden_output) + self.bias_output\n",
    "        self.final_output = sigmoid(self.final_input)\n",
    "        return self.final_output\n",
    "\n",
    "    def backward(self, X, y, learning_rate=0.1):\n",
    "        # Calculate output layer error\n",
    "        error = y - self.final_output\n",
    "        d_output = error * sigmoid_derivative(self.final_output)\n",
    "\n",
    "        # Backpropagate to hidden layer\n",
    "        error_hidden_layer = d_output.dot(self.weights_hidden_output.T)\n",
    "        d_hidden_layer = error_hidden_layer * sigmoid_derivative(self.hidden_output)\n",
    "\n",
    "        # Update weights and biases\n",
    "        self.weights_hidden_output += self.hidden_output.T.dot(d_output) * learning_rate\n",
    "        self.bias_output += np.sum(d_output, axis=0, keepdims=True) * learning_rate\n",
    "        self.weights_input_hidden += X.T.dot(d_hidden_layer) * learning_rate\n",
    "        self.bias_hidden += np.sum(d_hidden_layer, axis=0, keepdims=True) * learning_rate\n",
    "\n",
    "    def train(self, X, y, epochs=1000, learning_rate=0.1):\n",
    "        for _ in range(epochs):\n",
    "            self.forward(X)\n",
    "            self.backward(X, y, learning_rate)\n",
    "\n",
    "# One-hot encoding for words\n",
    "def word_to_one_hot(word, vocab):\n",
    "    one_hot = np.zeros(len(vocab))\n",
    "    if word in vocab:\n",
    "        one_hot[vocab.index(word)] = 1\n",
    "    return one_hot\n",
    "\n",
    "# Sample data (words and their classes)\n",
    "words = ['cat', 'dog', 'fish', 'bird']\n",
    "vocab = list(set(words))  # Vocabulary\n",
    "X = np.array([word_to_one_hot(word, vocab) for word in words])  # One-hot encoded input\n",
    "y = np.array([[1, 0], [1, 0], [0, 1], [0, 1]])  # One-hot encoded output labels\n",
    "\n",
    "# Initialize and train the neural network\n",
    "nn = SimpleNN(input_size=len(vocab), hidden_size=4, output_size=2)\n",
    "nn.train(X, y, epochs=10000, learning_rate=0.1)\n",
    "\n",
    "# Test the trained model\n",
    "test_words = ['cat', 'bird']\n",
    "for word in test_words:\n",
    "    test_input = np.array([word_to_one_hot(word, vocab)])\n",
    "    predicted_output = nn.forward(test_input)\n",
    "    print(f\"Prediction for '{word}': {predicted_output}\")\n"
   ]
  },
  {
   "cell_type": "code",
   "execution_count": null,
   "id": "d519ed9c-e7c8-418d-8ac6-a1632bc714c8",
   "metadata": {},
   "outputs": [],
   "source": []
  }
 ],
 "metadata": {
  "kernelspec": {
   "display_name": "Python 3 (ipykernel)",
   "language": "python",
   "name": "python3"
  },
  "language_info": {
   "codemirror_mode": {
    "name": "ipython",
    "version": 3
   },
   "file_extension": ".py",
   "mimetype": "text/x-python",
   "name": "python",
   "nbconvert_exporter": "python",
   "pygments_lexer": "ipython3",
   "version": "3.11.9"
  }
 },
 "nbformat": 4,
 "nbformat_minor": 5
}
